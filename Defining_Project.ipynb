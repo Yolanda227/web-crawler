{
 "cells": [
  {
   "cell_type": "markdown",
   "metadata": {},
   "source": [
    "**Instructions**\n",
    "1. Make sure your project is related to the business of the companies you are interested in.\n",
    "2. The project should not only be helpful to the employer's business, but also compatible with the existing tools they are using.\n",
    "2. Don’t spend time in generating brand-new ideas. Using mature methods to solve specific problem is more preferred.\n",
    "3. Don’t try to build a perfect project. Start with a Minimum Viable Product. Resources are always limited."
   ]
  },
  {
   "cell_type": "markdown",
   "metadata": {},
   "source": [
    "<font color='red'>**Question:**</font> What is the problem you would like to solve? Why is it important?"
   ]
  },
  {
   "cell_type": "markdown",
   "metadata": {},
   "source": [
    "**Example**: In direct mail marketing, tens of millions of mails are sent to potential customers. Only a very small fraction of the mail receivers respond. Most of mails are thrown into recycle bins directly. If we are able to accurately identify people who will possibly respond. We can save money in direct mail marketing or accquire more customers with given resources."
   ]
  },
  {
   "cell_type": "markdown",
   "metadata": {},
   "source": [
    "According to Marketing Metrics, the probability of selling to an existing customer is 60-70%. The probability of selling to a brand-new customer, on the other hand, is just 5-20%. Therefore customer retention is crucial to maximize the business potential and to achieve the long-term business success.\n",
    "\n",
    "With customer churn prediction, the company will be able to identify which customers are likely to switch providers. By accurately predicting churn, the companies can strategically allocate resources to retain at-risk customers rather than spending extensively on customer acquisition. This approach preserves revenue, improves customer loyalty, and optimizes operational costs, providing a more efficient and effective way to manage customer relationships in a highly competitive industry."
   ]
  },
  {
   "cell_type": "markdown",
   "metadata": {},
   "source": [
    "<font color='red'>**Question:**</font> How to measure the business value of your solution? What is the benchmark?"
   ]
  },
  {
   "cell_type": "markdown",
   "metadata": {},
   "source": [
    "**Example**: If our goal is saving money in direct mail marketing, the benchmark could be the current situtation in which we send mail to all the people in an area. Let's assume there are a million families in this area, only 0.1% of the people respond, and each mail costs 10 cents. If our model can successfully filter out half of the people who won't respond, we can save 50,000 dollars for each time."
   ]
  },
  {
   "cell_type": "markdown",
   "metadata": {},
   "source": [
    "With a customer churn predictor, the company can take actions to prevent these clients who are intended to leave with a marketing campaign, or offering them some promotion incentives.The result is a decline in the churn rate and an increase in customer retention.\n",
    "The benchmark is the churn rate when not use the customer churn predictor. "
   ]
  },
  {
   "cell_type": "markdown",
   "metadata": {},
   "source": [
    "<font color='red'>**Question:**</font> What are the metrics you will use? Why?"
   ]
  },
  {
   "cell_type": "markdown",
   "metadata": {},
   "source": [
    "**Example**: We can use AUC-ROC for model training. We will use precision and recall to measure our models, keep recall close to 100%, and maximize precision at the same time. If we can't keep recall as 100%, we need to consider the value of each customer and calculate the loss."
   ]
  },
  {
   "cell_type": "markdown",
   "metadata": {},
   "source": [
    "Since churn is very low for most companies, it is not enough to look at the accuracy of the churn model. For example, if the churn is 10% and the churn model for all clients says they will not leave, it will have 90% accuracy. But this is not useful. So, we will also need look at sensitivity (how many of the clients who actually leave were detected by the model) and precision (how many of the clients identified by the model actually left).\n",
    "\n",
    " If we can't keep precision as 100%, we need to consider the cost of marketing campain on a customer who is not intended to switch provider but been predicted to."
   ]
  },
  {
   "cell_type": "markdown",
   "metadata": {},
   "source": [
    "<font color='red'>**Question:**</font> What data do you need? How will you get the data?"
   ]
  },
  {
   "cell_type": "markdown",
   "metadata": {},
   "source": [
    "**Example**: Direct mail marketing data is very hard to get. So it is not suitable to be a keystone project. Make sure you are able to get the data you need before you decide to work on a project. Here are some sources to get data:  \n",
    "1. House price data from Zillow, rent price from Craigslist, resteraunt review from Yelp, product review from Amazon, etc.\n",
    "2. Some companies provide APIs like Twitter (https://developer.twitter.com/en/docs)\n",
    "3. Quite some datasets are available on Kaggle (https://www.kaggle.com/datasets)"
   ]
  },
  {
   "cell_type": "markdown",
   "metadata": {},
   "source": [
    "In a real case, here below would be the data I want and where to get them. In our project, we will use a dataset from Kaggle. https://www.kaggle.com/datasets/blastchar/telco-customer-churn\n",
    "1. Customer profile data, from company CRM database\n",
    "2. Customer payment type and monthly bill, from company billing system\n",
    "3. Customer useage data, from network support system\n",
    "4. Customer service records from aftersale support department\n",
    "5. Market competition analysis, from market analysts or industry reports"
   ]
  },
  {
   "cell_type": "markdown",
   "metadata": {},
   "source": [
    "<font color='red'>**Question:**</font> What algorithms will you choose for this project? Why?"
   ]
  },
  {
   "cell_type": "markdown",
   "metadata": {},
   "source": [
    "**Example**: We will use Random Forest as a benchmark algorithm, because it is very stable and able to handle nonlinear relationship between features and target. But eventually, we will use Logistic Regression with created features, because we need to keep the model interpretable to communicate with the marketing team."
   ]
  },
  {
   "cell_type": "markdown",
   "metadata": {},
   "source": [
    "I will use clustering and SVM to categorize features and find out impact of features for the prediction first. With basic understanding of the known features, I will create new features. For the algorithm, I will use Random Forest as a benchmark algorithm, because it is very stable and able to handle nonlinear relationship between features and target. But eventually I may use Logistic Regression with created features, because we need keep the model interpretable to communicate with the marketing team. "
   ]
  },
  {
   "cell_type": "markdown",
   "metadata": {},
   "source": [
    "<font color='red'>**Question:**</font> What will be the input and output?"
   ]
  },
  {
   "cell_type": "markdown",
   "metadata": {},
   "source": [
    "**Example**: The input would be the information of people (if available) such as zipcode, household income, age, etc. The output will be 1 (will respond) or 0 (won't respond)."
   ]
  },
  {
   "cell_type": "markdown",
   "metadata": {},
   "source": [
    "The input will be customer profile(i.e. gender, age, income etc.), service package(i.e. prepaid/postpaid, monthly expense), useage data(i.e. data, international calls, sms). \n",
    "The output will be 1 (not churn) or 0 (churn)"
   ]
  }
 ],
 "metadata": {
  "kernelspec": {
   "display_name": "Python 3 (ipykernel)",
   "language": "python",
   "name": "python3"
  },
  "language_info": {
   "codemirror_mode": {
    "name": "ipython",
    "version": 3
   },
   "file_extension": ".py",
   "mimetype": "text/x-python",
   "name": "python",
   "nbconvert_exporter": "python",
   "pygments_lexer": "ipython3",
   "version": "3.10.9"
  },
  "toc": {
   "base_numbering": 1,
   "nav_menu": {},
   "number_sections": true,
   "sideBar": true,
   "skip_h1_title": false,
   "title_cell": "Table of Contents",
   "title_sidebar": "Contents",
   "toc_cell": false,
   "toc_position": {},
   "toc_section_display": true,
   "toc_window_display": false
  }
 },
 "nbformat": 4,
 "nbformat_minor": 2
}
