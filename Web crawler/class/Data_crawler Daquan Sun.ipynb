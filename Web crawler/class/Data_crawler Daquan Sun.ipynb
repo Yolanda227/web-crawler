{
 "cells": [
  {
   "cell_type": "markdown",
   "id": "a7487b41-c3d5-4bc1-8ca9-749c2fa3c564",
   "metadata": {},
   "source": [
    "# Since I use the data from Kaggle to conduct my project; here I use Web crawler to collect job data from Indeed."
   ]
  },
  {
   "cell_type": "code",
   "execution_count": 1,
   "id": "128f4f68-364d-4761-b98b-3dd006d37762",
   "metadata": {},
   "outputs": [],
   "source": [
    "#!pip3.10 install selenium\n",
    "from urllib.request import Request, urlopen\n",
    "from selenium import webdriver\n",
    "from bs4 import BeautifulSoup\n",
    "from datetime import datetime, timedelta\n",
    "from selenium.webdriver.common.keys import Keys\n",
    "import time\n",
    "import random\n",
    "import os\n",
    "import json\n",
    "import csv\n",
    "from selenium.webdriver.support.ui import WebDriverWait\n",
    "from selenium.webdriver.support import expected_conditions as EC\n",
    "from selenium.webdriver.common.by import By\n"
   ]
  },
  {
   "cell_type": "code",
   "execution_count": 2,
   "id": "10b8b55e-4354-4eeb-8f9f-e55af082e7d1",
   "metadata": {},
   "outputs": [],
   "source": [
    "# Set the path to the GeckoDriver executable\n",
    "geckodriver_path = \"/home/daquan/Desktop/Week13 Defining Keystone Project/geckodriver\"\n",
    "\n",
    "# Create a Firefox WebDriver with options\n",
    "options = webdriver.FirefoxOptions()\n",
    "options.binary_location = \"/usr/bin/firefox\"  # Add the correct path to your Firefox binary if needed\n",
    "\n",
    "# Set the path to the GeckoDriver executable using the executable path option\n",
    "options.add_argument(f\"webdriver.gecko.driver:{geckodriver_path}\")\n",
    "\n",
    "# Create the Firefox WebDriver\n",
    "driver = webdriver.Firefox(options=options)\n",
    "\n",
    "# Visit the Indeed website\n",
    "url = \"https://www.indeed.com/\"\n",
    "driver.get(url)"
   ]
  },
  {
   "cell_type": "code",
   "execution_count": 3,
   "id": "23709894-223f-46ec-88d0-e8372d0ec77c",
   "metadata": {},
   "outputs": [],
   "source": [
    "search_bar = driver.find_element(\"name\", \"q\")\n",
    "search_bar.clear()\n",
    "search_bar.send_keys(\"data scientist\")\n",
    "search_bar.send_keys(Keys.RETURN)"
   ]
  },
  {
   "cell_type": "code",
   "execution_count": 4,
   "id": "5b1a7a7d-a94c-4e9d-b29d-edb645bf4805",
   "metadata": {},
   "outputs": [
    {
     "name": "stdout",
     "output_type": "stream",
     "text": [
      "Job Title: Senior Data Scientist\n",
      "Job URL: https://www.indeed.com/pagead/clk?mo=r&ad=-6NYlbfkN0AONUb9KkyONUn9JQTY4vDoLDGczc7Mu5QzZZsJZlE0haOGKiKYB60DsBrfxH2PBGbCAM4QbSKAo4WMU2J0RRkxwAvtt5PcYqui_3G4vqFCWlUWlmLQA82lJtgKwZEYUe4kDRat4PloCj3eHz4WKJZIT_SCBrR_bnHrFIomT1fGIULyHR4S9A7y0HF7XauVjcS7f5ZWvDZQuT_d9y00SN7lJncvtLHgVQOBzHBK2L3Tnge3TCjwafcJJ7XuEAFtYgcNRDW9Cb0KC03kiDxWNsoLg_lQ0bfwvaYiQhMGtl3hzOMg9FOgp2Z9B-AC5EkMr3uzq_8abA23de7UO52EaPTlhegKVPtjhe17w4owbmjpbLY7POK7IYqui_WxAEe5ysrhsAkPoLtmTCBqGNmQorI_50sH-wShvvDk1z0zwY4yhZImJsxLtAZguoHxveia7bxEz8nfhKJUfFAGSpaImD8XT2Mp5EVKCnvxFUk3Ic0tf3KcABJvr38yIX3Ot-ThfyrCWCpjovXLVg6NXMOe4ebiL2SicMr_4i1W0Xh03hsNpcPpUw0HNUr_UKwmK0zkUEHJSEWX9mw39Dwzkz30maNaP9mbRCDhKp5IKXiYprTi8_YT5EUmKcGv9kWNCjq_W6Y=&xkcb=SoAG6_M3H0OdAaTAL50LbzkdCdPP&p=0&fvj=1&vjs=3\n",
      "\n",
      "Job Title: Data Analyst / Data Scientist\n",
      "Job URL: https://www.indeed.com/pagead/clk?mo=r&ad=-6NYlbfkN0BQxpxrRf7vVG7k8xMGy9eJPZVSaSgy1zjQO0xuOJH1JBjqCGfRoW83NDb5NuTsShk3JNQd5ReofR6mb1lVsRDja9u1yVhSgBtSrRxAl1_t54-udxrkLQNoFyfmk45N7r0rJTV4sHEtMYlGKD1mkpEpyV0LJ1X13DmhBDGN1rtAt7FZoE88WZhLkP_OHSAba5BxEFVB6yZSRfzZ6D_nT0GFWPAhA1T1serJHpP4O3OG5a8u8eAiyPTOOJfy3RUlLIL2VlKZxUQLIdfzmpn9ffwKX3UblnOuMlkviq66KvRQGYB9SdWYmLy8bhRLJniTcsLqurp2BQ-A-0cTfeK69HedjGnkfNq5KiXTPEJQIGCsKjXWdC1jIt1U5_F8rpk4INK5G8kSlWurkOxK7Tuiy-aFcEX4yM8SeiHgkbTzxk-5-nCd9IJHzj9VWioJdUl1BKBRS4lfr1OZ5HbUU3bSZmEkW5zVAwK8X4ByZ8KPnDFzBiwccapFN8ry0R0TkGUqlRS7lWVeSqdGfzajCD89IF_BMgPvqTsojraFVT4d_M_hZzHZjp-yqodBGzBMVO_4bU3Vf-HUM4k1YbYJgldr8kcVVsPRW_gGCEw_V73CDZ7CzPVosbG-m2NCzUD-7y6sLHiDa6npGopbsA==&xkcb=SoCy6_M3H0OdAaTAL50KbzkdCdPP&p=1&fvj=1&vjs=3\n",
      "\n",
      "Job Title: Data Scientist\n",
      "Job URL: https://www.indeed.com/rc/clk?jk=9b325bb1a24ea9ad&bb=OU8z17x-plGK_0FGMpYQnRtclPPXlxpnhoPEOgqv2FLjkMurNqK9ZF439FEJH_OQSq9MjwZEZL6vlSlcWXC3qO8RM5Bb772fZbPjZtB-6c8%3D&xkcb=SoDb67M3H0OdAaTAL50JbzkdCdPP&fccid=e8cd3bf800e9042c&vjs=3\n",
      "\n",
      "Job Title: Data Scientist - All Levels\n",
      "Job URL: https://www.indeed.com/rc/clk?jk=b23b4c664deb5514&bb=OU8z17x-plGK_0FGMpYQnXUyWey_RBBhNYaN7Xz84tV8nIGh7Fh-0DHtE1gGK8Ofs-PaTZXoI6k9BZ2-QH8vS5UlSjiQNhDFX_F1i7eY-tE%3D&xkcb=SoBv67M3H0OdAaTAL50IbzkdCdPP&fccid=bff7a5b1c79a5c87&vjs=3\n",
      "\n",
      "Job Title: Data Scientist\n",
      "Job URL: https://www.indeed.com/rc/clk?jk=87f74084c6d563cf&bb=OU8z17x-plGK_0FGMpYQnfiLma35cOaI3qj_r9D_IMzPhdmZ6a__xMm9FCVyPoCfC8mWLdHkKr7KFnyCKk6L4aeBMm-yCtzq-22lY1WSyfk%3D&xkcb=SoDh67M3H0OdAaTAL50PbzkdCdPP&fccid=73f1a68b8bdec7ca&cmp=Numero-Data-LLC&ti=Data+Scientist&vjs=3\n",
      "\n",
      "Job Title: Data Scientist\n",
      "Job URL: https://www.indeed.com/rc/clk?jk=79f02c6a83096dd2&bb=OU8z17x-plGK_0FGMpYQnTW-RlJuWI3x1mCN_Wa_MmvWnrMxB4jecmiL0hdPLXk0rNkP_pQOO252ekKIKbR4TSvo7GL22RISvXbyVoO-yWA%3D&xkcb=SoBV67M3H0OdAaTAL50ObzkdCdPP&fccid=b5c75a20c6f3d3e5&vjs=3\n",
      "\n",
      "Job Title: Data Scientist\n",
      "Job URL: https://www.indeed.com/rc/clk?jk=b144d25bf6db902b&bb=OU8z17x-plGK_0FGMpYQnR2u7dGClrkulZ-TiTNp0gTNgjNrDgUpSPJFyDpdg1Si8hyByQlCT4rgspTz0XorfGvP2C-RW8bsxyxwQh-T5JM%3D&xkcb=SoDI67M3H0OdAaTAL50NbzkdCdPP&fccid=3358af1bacc4f421&cmp=Ai-Vantage&ti=Data+Scientist&vjs=3\n",
      "\n",
      "Job Title: Senior Data Scientist\n",
      "Job URL: https://www.indeed.com/pagead/clk?mo=r&ad=-6NYlbfkN0Cyg51Y8liRZ6ctbnrNX8IlCbmX5PtyF3q1tTdHAC5OLHLtFwX1dNvSouEPME88GsCgG5QY1PF8TZ0IK4bNn9iSSuTyhYq0yeo3_ih0-TjisfTusIOD1_m664Frm5ES4GQ-qFu55w-i6fQlvrBX3VRkhxe5Tm_vlIx_rQhdOmHloZ-nTHKGkljPQ4pPxTaeBNu9dabxlpmX208Tl_UKlRDf-snnOHZzVMO_wQbMJfm1aUd4eGWBEFv_JOZz3YCaJCbs6HS7WXHk5gi5JhJnz1dxZaN0W-rLsvpH8DoHpeD76_ProFnQUUuLL0m57JzEqBpWRW9byrYbbfr4_67aJa272r_WEV0hFp6vjLsLxemVx-lWIkaP11_eFTvuUShkZBRTAG69X9Qz396HuylnNt_0W5ejqRroP3InBPuPokTyGCm19Fibi5OAxXjurOEUJbGoT6XFQa47Q41RDMduDCc_CzzKdjjkrqgiO4633McysyaAthIwX0LtbUWBboD0mLFDtLzdb5wqh-yUU-ZU0wpGQc2JwNJk81ithjmkQ-d8iNC8elJJMS8ueu3JZLgj-XW7jB9ge6EmGEk3VqyaXqBe9ZpcIS9DFa9ZeDSIPDknLJXUAQb8hgh_EURJvNTwLhr_Qyk9-ZHgVpTDRWO9hoUDDfL9b_HoQhRtXYl6YrvbUzYQTCITQhYnZgOnSP5gq_qvgSSPttW6HdQhaqduOj2e9qHMketA77jnjXZHKmCspXx1YgVpQlYe&xkcb=SoCI6_M3H0OdAaTAL50MbzkdCdPP&p=7&fvj=0&vjs=3\n",
      "\n",
      "Job Title: Junior Data Scientist\n",
      "Job URL: https://www.indeed.com/rc/clk?jk=bbeb33210cca7d6b&bb=OU8z17x-plGK_0FGMpYQnf6rat091BX6tKrG48RY8MYkfmVK-5bFR1oJ9d4xaqFsrx-mdKrMRVYzBroO11idedotvh8HX8f2R9b6lZoeBeA%3D&xkcb=SoCV67M3H0OdAaTAL50DbzkdCdPP&fccid=868297b060b46b2b&vjs=3\n",
      "\n",
      "Job Title: Data Scientist\n",
      "Job URL: https://www.indeed.com/rc/clk?jk=3ad113c128153738&bb=OU8z17x-plGK_0FGMpYQnQWpSdehEukr08YBZkNIRx1s8Elf63mvjZQsAPURlSamNsPBDZIi_x0LCqf5yI0TkHp3O4pea-3EOsdG0wlWZCM%3D&xkcb=SoAh67M3H0OdAaTAL50CbzkdCdPP&fccid=5db15845914e1098&cmp=GTA-%28Global-Technology-Associates%29&ti=Data+Scientist&vjs=3\n",
      "\n",
      "Job Title: Junior Data Scientist\n",
      "Job URL: https://www.indeed.com/rc/clk?jk=7cf1c4694a272e80&bb=OU8z17x-plGK_0FGMpYQnU4etyYgp5yZ6j6qBAalbwnYmytNPVa1fBOhGLIWe7Mvl2WTKp0y-71lvp4V6cr20IGuLroK06YS8rvgFQh6hjQ%3D&xkcb=SoC867M3H0OdAaTAL50BbzkdCdPP&fccid=e5f741bf43df9079&vjs=3\n",
      "\n",
      "Job Title: Cleared Data Scientist (All Levels)\n",
      "Job URL: https://www.indeed.com/rc/clk?jk=48588a23011fb067&bb=OU8z17x-plGK_0FGMpYQnfiwvFe4kQh8y5yyhNjJJK3b5VekkOPwXq4zv1kGY7gfG5o3tCEwZGGYg0L-Arsrf21H46cCVp3B7qj9mEDRi5A%3D&xkcb=SoAI67M3H0OdAaTAL50AbzkdCdPP&fccid=05d6cb8b919478a9&vjs=3\n",
      "\n",
      "Job Title: Data Engineer / Data Scientist\n",
      "Job URL: https://www.indeed.com/rc/clk?jk=fe852f3892712302&bb=OU8z17x-plGK_0FGMpYQnd7YLVWr60nHF8UHiVWnxsao-w7oHR67zsPC63JupaS0NmgeesHMBzvL-wfzorB_TdG4VhFpzO8RiLE4bA7uu-M%3D&xkcb=SoCG67M3H0OdAaTAL50HbzkdCdPP&fccid=dd616958bd9ddc12&vjs=3\n",
      "\n",
      "Job Title: Data Scientist\n",
      "Job URL: https://www.indeed.com/rc/clk?jk=5918c396ffdb3847&bb=OU8z17x-plGK_0FGMpYQnSeLuvQ8HocxU7B7WMIEG5d_y4i_N55__-a1pdpfASXHp4OK5KzOlUIoowbISKfSP59XfUy6Hq4rg19NiXr9Duw%3D&xkcb=SoAy67M3H0OdAaTAL50GbzkdCdPP&fccid=4e041af1d0af1bc8&vjs=3\n",
      "\n",
      "Job Title: Data Scientist\n",
      "Job URL: https://www.indeed.com/rc/clk?jk=04b2f773ca5fe542&bb=OU8z17x-plGK_0FGMpYQnWXsQYBskLKnbv9R0On_PPIWUF3lfSN2ikNjddp1WKXSbAtDfPrmdtsFwXQgvw_scLd2uNMCO5Av8T-WyrYGMGI%3D&xkcb=SoCv67M3H0OdAaTAL50FbzkdCdPP&fccid=6f3afb2c19af6e1b&cmp=Cognowiz-solutions-LLC&ti=Data+Scientist&vjs=3\n",
      "\n"
     ]
    }
   ],
   "source": [
    "# Wait for the search results to load\n",
    "wait = WebDriverWait(driver, 10)\n",
    "wait.until(EC.presence_of_element_located((By.CSS_SELECTOR, \"a.jcs-JobTitle\")))\n",
    "\n",
    "# Get all job link elements\n",
    "job_links = driver.find_elements(By.CSS_SELECTOR, \"a.jcs-JobTitle\")\n",
    "\n",
    "# Print each job link\n",
    "for job_link in job_links:\n",
    "    job_title = job_link.text\n",
    "    job_url = job_link.get_attribute('href')\n",
    "    print(f\"Job Title: {job_title}\\nJob URL: {job_url}\\n\")\n",
    "\n",
    "# Close the browser window\n",
    "# driver.quit()"
   ]
  },
  {
   "cell_type": "code",
   "execution_count": 5,
   "id": "f84bb0e5-8ece-42cb-a9a0-2fd1571d3fe9",
   "metadata": {},
   "outputs": [
    {
     "name": "stdout",
     "output_type": "stream",
     "text": [
      "Job data has been saved to job_data.csv\n"
     ]
    }
   ],
   "source": [
    "# Create a list to store job data\n",
    "job_data = []\n",
    "\n",
    "# Collect job data\n",
    "for job_link in job_links:\n",
    "    job_title = job_link.text\n",
    "    job_url = job_link.get_attribute('href')\n",
    "    job_data.append({\"Job Title\": job_title, \"Job URL\": job_url})\n",
    "\n",
    "# Close the browser window\n",
    "# driver.quit()\n",
    "\n",
    "# Save job data to a CSV file\n",
    "csv_filename = \"job_data.csv\"\n",
    "csv_columns = [\"Job Title\", \"Job URL\"]\n",
    "\n",
    "with open(csv_filename, 'w', newline='', encoding='utf-8') as csv_file:\n",
    "    writer = csv.DictWriter(csv_file, fieldnames=csv_columns)\n",
    "    writer.writeheader()\n",
    "    for data in job_data:\n",
    "        writer.writerow(data)\n",
    "\n",
    "print(f\"Job data has been saved to {csv_filename}\")"
   ]
  },
  {
   "cell_type": "code",
   "execution_count": null,
   "id": "183324ef-6d89-411c-bd72-23fc031ea63b",
   "metadata": {},
   "outputs": [],
   "source": []
  },
  {
   "cell_type": "code",
   "execution_count": null,
   "id": "51bba9cc-e697-4346-83ff-e5daf2287f71",
   "metadata": {},
   "outputs": [],
   "source": []
  },
  {
   "cell_type": "code",
   "execution_count": null,
   "id": "01531c7f-f30e-43e4-b05e-b7cd9961757d",
   "metadata": {},
   "outputs": [],
   "source": []
  },
  {
   "cell_type": "code",
   "execution_count": null,
   "id": "ed1088cd-02d0-4331-8e35-5dc1c678215c",
   "metadata": {},
   "outputs": [],
   "source": []
  },
  {
   "cell_type": "code",
   "execution_count": null,
   "id": "ccf4265c-7852-4a1e-940d-c0a7f886199c",
   "metadata": {},
   "outputs": [],
   "source": []
  }
 ],
 "metadata": {
  "kernelspec": {
   "display_name": "Python 3 (ipykernel)",
   "language": "python",
   "name": "python3"
  },
  "language_info": {
   "codemirror_mode": {
    "name": "ipython",
    "version": 3
   },
   "file_extension": ".py",
   "mimetype": "text/x-python",
   "name": "python",
   "nbconvert_exporter": "python",
   "pygments_lexer": "ipython3",
   "version": "3.10.9"
  },
  "toc": {
   "base_numbering": 1,
   "nav_menu": {},
   "number_sections": true,
   "sideBar": true,
   "skip_h1_title": false,
   "title_cell": "Table of Contents",
   "title_sidebar": "Contents",
   "toc_cell": false,
   "toc_position": {},
   "toc_section_display": true,
   "toc_window_display": false
  }
 },
 "nbformat": 4,
 "nbformat_minor": 5
}
