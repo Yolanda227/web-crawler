{
 "cells": [
  {
   "cell_type": "markdown",
   "id": "a7487b41-c3d5-4bc1-8ca9-749c2fa3c564",
   "metadata": {},
   "source": [
    "# Since I use the data from Kaggle to conduct my project; here I use Web crawler to collect job data from Indeed."
   ]
  },
  {
   "cell_type": "code",
   "execution_count": null,
   "id": "128f4f68-364d-4761-b98b-3dd006d37762",
   "metadata": {},
   "outputs": [],
   "source": [
    "#!pip3.10 install selenium\n",
    "from urllib.request import Request, urlopen\n",
    "from selenium import webdriver\n",
    "from bs4 import BeautifulSoup\n",
    "from datetime import datetime, timedelta\n",
    "from selenium.webdriver.common.keys import Keys\n",
    "import time\n",
    "import random\n",
    "import os\n",
    "import json\n",
    "import csv\n",
    "from selenium.webdriver.support.ui import WebDriverWait\n",
    "from selenium.webdriver.support import expected_conditions as EC\n",
    "from selenium.webdriver.common.by import By\n"
   ]
  },
  {
   "cell_type": "code",
   "execution_count": null,
   "id": "10b8b55e-4354-4eeb-8f9f-e55af082e7d1",
   "metadata": {},
   "outputs": [],
   "source": [
    "# Set the path to the GeckoDriver executable\n",
    "geckodriver_path = \"/home/daquan/Desktop/Week13 Defining Keystone Project/geckodriver\"\n",
    "\n",
    "# Create a Firefox WebDriver with options\n",
    "options = webdriver.FirefoxOptions()\n",
    "options.binary_location = \"/usr/bin/firefox\"  # Add the correct path to your Firefox binary if needed\n",
    "\n",
    "# Set the path to the GeckoDriver executable using the executable path option\n",
    "options.add_argument(f\"webdriver.gecko.driver:{geckodriver_path}\")\n",
    "\n",
    "# Create the Firefox WebDriver\n",
    "driver = webdriver.Firefox(options=options)\n",
    "\n",
    "# Visit the Indeed website\n",
    "url = \"https://www.indeed.com/\"\n",
    "driver.get(url)"
   ]
  },
  {
   "cell_type": "code",
   "execution_count": null,
   "id": "23709894-223f-46ec-88d0-e8372d0ec77c",
   "metadata": {},
   "outputs": [],
   "source": [
    "search_bar = driver.find_element(\"name\", \"q\")\n",
    "search_bar.clear()\n",
    "search_bar.send_keys(\"data scientist\")\n",
    "search_bar.send_keys(Keys.RETURN)"
   ]
  },
  {
   "cell_type": "code",
   "execution_count": null,
   "id": "5b1a7a7d-a94c-4e9d-b29d-edb645bf4805",
   "metadata": {},
   "outputs": [],
   "source": [
    "# Wait for the search results to load\n",
    "wait = WebDriverWait(driver, 10)\n",
    "wait.until(EC.presence_of_element_located((By.CSS_SELECTOR, \"a.jcs-JobTitle\")))\n",
    "\n",
    "# Get all job link elements\n",
    "job_links = driver.find_elements(By.CSS_SELECTOR, \"a.jcs-JobTitle\")\n",
    "\n",
    "# Print each job link\n",
    "for job_link in job_links:\n",
    "    job_title = job_link.text\n",
    "    job_url = job_link.get_attribute('href')\n",
    "    print(f\"Job Title: {job_title}\\nJob URL: {job_url}\\n\")\n",
    "\n",
    "# Close the browser window\n",
    "# driver.quit()"
   ]
  },
  {
   "cell_type": "code",
   "execution_count": null,
   "id": "f84bb0e5-8ece-42cb-a9a0-2fd1571d3fe9",
   "metadata": {},
   "outputs": [],
   "source": [
    "# Create a list to store job data\n",
    "job_data = []\n",
    "\n",
    "# Collect job data\n",
    "for job_link in job_links:\n",
    "    job_title = job_link.text\n",
    "    job_url = job_link.get_attribute('href')\n",
    "    job_data.append({\"Job Title\": job_title, \"Job URL\": job_url})\n",
    "\n",
    "# Close the browser window\n",
    "# driver.quit()\n",
    "\n",
    "# Save job data to a CSV file\n",
    "csv_filename = \"job_data.csv\"\n",
    "csv_columns = [\"Job Title\", \"Job URL\"]\n",
    "\n",
    "with open(csv_filename, 'w', newline='', encoding='utf-8') as csv_file:\n",
    "    writer = csv.DictWriter(csv_file, fieldnames=csv_columns)\n",
    "    writer.writeheader()\n",
    "    for data in job_data:\n",
    "        writer.writerow(data)\n",
    "\n",
    "print(f\"Job data has been saved to {csv_filename}\")"
   ]
  },
  {
   "cell_type": "code",
   "execution_count": null,
   "id": "183324ef-6d89-411c-bd72-23fc031ea63b",
   "metadata": {},
   "outputs": [],
   "source": []
  },
  {
   "cell_type": "code",
   "execution_count": null,
   "id": "51bba9cc-e697-4346-83ff-e5daf2287f71",
   "metadata": {},
   "outputs": [],
   "source": []
  },
  {
   "cell_type": "code",
   "execution_count": null,
   "id": "01531c7f-f30e-43e4-b05e-b7cd9961757d",
   "metadata": {},
   "outputs": [],
   "source": []
  },
  {
   "cell_type": "code",
   "execution_count": null,
   "id": "ed1088cd-02d0-4331-8e35-5dc1c678215c",
   "metadata": {},
   "outputs": [],
   "source": []
  },
  {
   "cell_type": "code",
   "execution_count": null,
   "id": "ccf4265c-7852-4a1e-940d-c0a7f886199c",
   "metadata": {},
   "outputs": [],
   "source": []
  }
 ],
 "metadata": {
  "kernelspec": {
   "display_name": "Python 3 (ipykernel)",
   "language": "python",
   "name": "python3"
  },
  "language_info": {
   "codemirror_mode": {
    "name": "ipython",
    "version": 3
   },
   "file_extension": ".py",
   "mimetype": "text/x-python",
   "name": "python",
   "nbconvert_exporter": "python",
   "pygments_lexer": "ipython3",
   "version": "3.10.6"
  },
  "toc": {
   "base_numbering": 1,
   "nav_menu": {},
   "number_sections": true,
   "sideBar": true,
   "skip_h1_title": false,
   "title_cell": "Table of Contents",
   "title_sidebar": "Contents",
   "toc_cell": false,
   "toc_position": {},
   "toc_section_display": true,
   "toc_window_display": false
  }
 },
 "nbformat": 4,
 "nbformat_minor": 5
}
